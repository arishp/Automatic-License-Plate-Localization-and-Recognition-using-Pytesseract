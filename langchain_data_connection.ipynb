{
  "nbformat": 4,
  "nbformat_minor": 0,
  "metadata": {
    "colab": {
      "provenance": [],
      "gpuType": "T4",
      "authorship_tag": "ABX9TyN3dXyF4IV7z2LQkwV+8uX1",
      "include_colab_link": true
    },
    "kernelspec": {
      "name": "python3",
      "display_name": "Python 3"
    },
    "language_info": {
      "name": "python"
    },
    "accelerator": "GPU"
  },
  "cells": [
    {
      "cell_type": "markdown",
      "metadata": {
        "id": "view-in-github",
        "colab_type": "text"
      },
      "source": [
        "<a href=\"https://colab.research.google.com/github/arishp/Automatic-License-Plate-Localization-and-Recognition-using-Pytesseract/blob/master/langchain_data_connection.ipynb\" target=\"_parent\"><img src=\"https://colab.research.google.com/assets/colab-badge.svg\" alt=\"Open In Colab\"/></a>"
      ]
    },
    {
      "cell_type": "code",
      "source": [
        "# !pip install langchain\n",
        "# !pip install sentence-transformers\n",
        "# !pip install chromadb\n",
        "# !pip install langchain-community\n",
        "# !pip install langchain-huggingface\n",
        "# !pip install accelerate\n",
        "# !pip install langchain-google-genai"
      ],
      "metadata": {
        "id": "w7ze5KN1wjhI"
      },
      "execution_count": 1,
      "outputs": []
    },
    {
      "cell_type": "code",
      "execution_count": 2,
      "metadata": {
        "id": "kfDBJp4LwVv4"
      },
      "outputs": [],
      "source": [
        "from langchain.document_loaders import TextLoader\n",
        "from langchain.text_splitter import CharacterTextSplitter\n",
        "from langchain.embeddings import OpenAIEmbeddings\n",
        "from langchain.vectorstores import Chroma\n",
        "from langchain.chains import RetrievalQA\n",
        "from langchain.embeddings.sentence_transformer import SentenceTransformerEmbeddings\n",
        "from langchain_huggingface import HuggingFaceEndpoint"
      ]
    },
    {
      "cell_type": "markdown",
      "source": [
        "# Document Loaders"
      ],
      "metadata": {
        "id": "Z1JXcPWgxWId"
      }
    },
    {
      "cell_type": "code",
      "source": [
        "loader = TextLoader('sample.txt')\n",
        "documents = loader.load()\n",
        "len(documents)"
      ],
      "metadata": {
        "colab": {
          "base_uri": "https://localhost:8080/"
        },
        "id": "62_lQV7-wfj0",
        "outputId": "e8c7ed2d-f3e3-4872-cbd3-c5e5256a8597"
      },
      "execution_count": 3,
      "outputs": [
        {
          "output_type": "execute_result",
          "data": {
            "text/plain": [
              "1"
            ]
          },
          "metadata": {},
          "execution_count": 3
        }
      ]
    },
    {
      "cell_type": "markdown",
      "source": [
        "# Document Transformers"
      ],
      "metadata": {
        "id": "Q9zEDz4cySgY"
      }
    },
    {
      "cell_type": "code",
      "source": [
        "text_splitter = CharacterTextSplitter(separator=\" \", chunk_size=200, chunk_overlap=0)\n",
        "texts = text_splitter.split_documents(documents)\n",
        "len(texts)"
      ],
      "metadata": {
        "colab": {
          "base_uri": "https://localhost:8080/"
        },
        "id": "aHKFT2lnx1j7",
        "outputId": "c03c58cd-d6ab-4152-ab5c-eb0cf0d88d7e"
      },
      "execution_count": 4,
      "outputs": [
        {
          "output_type": "execute_result",
          "data": {
            "text/plain": [
              "163"
            ]
          },
          "metadata": {},
          "execution_count": 4
        }
      ]
    },
    {
      "cell_type": "code",
      "source": [
        "texts[:2]"
      ],
      "metadata": {
        "colab": {
          "base_uri": "https://localhost:8080/"
        },
        "id": "SN9qmgQAylYq",
        "outputId": "b5ff5cae-26d9-4c18-aaee-3483664edc54"
      },
      "execution_count": 5,
      "outputs": [
        {
          "output_type": "execute_result",
          "data": {
            "text/plain": [
              "[Document(metadata={'source': 'sample.txt'}, page_content='\"Dhoni\" redirects here. For other uses, see Dhoni (disambiguation).\\nMahendra Singh Dhoni\\nDhoni in 2023\\nPersonal details\\nBorn\\t7 July 1981 (age 43)\\nRanchi, Bihar (present-day Jharkhand), India\\nHeight\\t5'),\n",
              " Document(metadata={'source': 'sample.txt'}, page_content='ft 9 in (175 cm)[1]\\nSpouse\\tSakshi Dhoni\\nAwards\\t\\n\\n Padma Bhushan (2018)\\n Padma Shri (2009)\\n Major Dhyan Chand Khel Ratna Award (2008)\\n\\nNickname(s)\\tMahi, Thala, Captain Cool[2]\\nMilitary')]"
            ]
          },
          "metadata": {},
          "execution_count": 5
        }
      ]
    },
    {
      "cell_type": "markdown",
      "source": [
        "# Text Embedding Models"
      ],
      "metadata": {
        "id": "UUgXYx-WzXlT"
      }
    },
    {
      "cell_type": "code",
      "source": [
        "embeddings = SentenceTransformerEmbeddings(model_name=\"all-MiniLM-L6-v2\")"
      ],
      "metadata": {
        "id": "YOGDtxlKzJ6r",
        "colab": {
          "base_uri": "https://localhost:8080/"
        },
        "outputId": "f017d59c-4629-4a96-d428-84dbf03a1941"
      },
      "execution_count": 6,
      "outputs": [
        {
          "output_type": "stream",
          "name": "stderr",
          "text": [
            "/usr/local/lib/python3.10/dist-packages/langchain_core/_api/deprecation.py:139: LangChainDeprecationWarning: The class `HuggingFaceEmbeddings` was deprecated in LangChain 0.2.2 and will be removed in 0.3.0. An updated version of the class exists in the langchain-huggingface package and should be used instead. To use it run `pip install -U langchain-huggingface` and import as `from langchain_huggingface import HuggingFaceEmbeddings`.\n",
            "  warn_deprecated(\n",
            "/usr/local/lib/python3.10/dist-packages/sentence_transformers/cross_encoder/CrossEncoder.py:11: TqdmExperimentalWarning: Using `tqdm.autonotebook.tqdm` in notebook mode. Use `tqdm.tqdm` instead to force console mode (e.g. in jupyter console)\n",
            "  from tqdm.autonotebook import tqdm, trange\n",
            "/usr/local/lib/python3.10/dist-packages/huggingface_hub/utils/_token.py:89: UserWarning: \n",
            "The secret `HF_TOKEN` does not exist in your Colab secrets.\n",
            "To authenticate with the Hugging Face Hub, create a token in your settings tab (https://huggingface.co/settings/tokens), set it as secret in your Google Colab and restart your session.\n",
            "You will be able to reuse this secret in all of your notebooks.\n",
            "Please note that authentication is recommended but still optional to access public models or datasets.\n",
            "  warnings.warn(\n"
          ]
        }
      ]
    },
    {
      "cell_type": "markdown",
      "source": [
        "# Vector Stores"
      ],
      "metadata": {
        "id": "EfDdUWga0Lhn"
      }
    },
    {
      "cell_type": "code",
      "source": [
        "db = Chroma.from_documents(texts, embeddings)"
      ],
      "metadata": {
        "id": "EqXoI4mn0KEO"
      },
      "execution_count": 7,
      "outputs": []
    },
    {
      "cell_type": "code",
      "source": [
        "db._collection.get(include=['embeddings'])"
      ],
      "metadata": {
        "id": "c9MylagjzmBi"
      },
      "execution_count": null,
      "outputs": []
    },
    {
      "cell_type": "markdown",
      "source": [
        "# Retrievers"
      ],
      "metadata": {
        "id": "QuvaQwBb04kR"
      }
    },
    {
      "cell_type": "code",
      "source": [
        "retriever = db.as_retriever(search_kwargs={\"k\":3})"
      ],
      "metadata": {
        "id": "ol-RqAc200UK"
      },
      "execution_count": 9,
      "outputs": []
    },
    {
      "cell_type": "code",
      "source": [
        "retriever"
      ],
      "metadata": {
        "colab": {
          "base_uri": "https://localhost:8080/"
        },
        "id": "bejIGX6r1EfB",
        "outputId": "5f7a42d8-63dc-4f4b-bd3e-69f0c0d3ec76"
      },
      "execution_count": 10,
      "outputs": [
        {
          "output_type": "execute_result",
          "data": {
            "text/plain": [
              "VectorStoreRetriever(tags=['Chroma', 'HuggingFaceEmbeddings'], vectorstore=<langchain_community.vectorstores.chroma.Chroma object at 0x7f12ece5ac20>, search_kwargs={'k': 3})"
            ]
          },
          "metadata": {},
          "execution_count": 10
        }
      ]
    },
    {
      "cell_type": "markdown",
      "source": [
        "# Question 1"
      ],
      "metadata": {
        "id": "ZsZ5Oe5i1SU4"
      }
    },
    {
      "cell_type": "code",
      "source": [
        "question = input(\"enter your question?\")"
      ],
      "metadata": {
        "colab": {
          "base_uri": "https://localhost:8080/"
        },
        "id": "z58yALDrhML5",
        "outputId": "11b05918-7d1f-45d5-d9c8-88c44d6d16d1"
      },
      "execution_count": 21,
      "outputs": [
        {
          "name": "stdout",
          "output_type": "stream",
          "text": [
            "enter your question?who married dhoni?\n"
          ]
        }
      ]
    },
    {
      "cell_type": "code",
      "source": [
        "docs = retriever.get_relevant_documents(question)"
      ],
      "metadata": {
        "id": "8qnbt8VE1F_K"
      },
      "execution_count": 23,
      "outputs": []
    },
    {
      "cell_type": "code",
      "source": [
        "docs"
      ],
      "metadata": {
        "colab": {
          "base_uri": "https://localhost:8080/"
        },
        "id": "OqWD4_DT1a3i",
        "outputId": "a8b0dc3b-a0c1-4615-cf05-bbd30710d7ae"
      },
      "execution_count": 24,
      "outputs": [
        {
          "output_type": "execute_result",
          "data": {
            "text/plain": [
              "[Document(metadata={'source': 'sample.txt'}, page_content='the field which has earned him the monicker \"Captain cool\".[178]\\nPersonal life\\n\\nDhoni married Sakshi Singh Rawat on 4 July 2010 in Dehradun.[179][180] Dhoni and his wife have a daughter who was born'),\n",
              " Document(metadata={'source': 'sample.txt'}, page_content='Dhoni worked as a Travelling Ticket Examiner (TTE) at Kharagpur under South Eastern Railway zone of Indian Railways.[12][13]\\nEarly career\\n\\nHe played as a wicket-keeper for Commando cricket club from'),\n",
              " Document(metadata={'source': 'sample.txt'}, page_content='on 6 February 2015.[181][182] He lives in his farmhouse outside Ranchi.[183] Dhoni is an automotive enthusiast and owns a number of bikes and cars in his collection.[184]\\nCareer statistics\\n\\nDhoni has')]"
            ]
          },
          "metadata": {},
          "execution_count": 24
        }
      ]
    },
    {
      "cell_type": "code",
      "source": [
        "relevant_text = ''\n",
        "for doc in docs:\n",
        "  relevant_text += doc.page_content\n",
        "print(relevant_text)"
      ],
      "metadata": {
        "colab": {
          "base_uri": "https://localhost:8080/"
        },
        "id": "dOYqE_O8noVX",
        "outputId": "371015a6-1da2-4c70-d2ef-09cd365ba29d"
      },
      "execution_count": 43,
      "outputs": [
        {
          "output_type": "stream",
          "name": "stdout",
          "text": [
            "the field which has earned him the monicker \"Captain cool\".[178]\n",
            "Personal life\n",
            "\n",
            "Dhoni married Sakshi Singh Rawat on 4 July 2010 in Dehradun.[179][180] Dhoni and his wife have a daughter who was bornDhoni worked as a Travelling Ticket Examiner (TTE) at Kharagpur under South Eastern Railway zone of Indian Railways.[12][13]\n",
            "Early career\n",
            "\n",
            "He played as a wicket-keeper for Commando cricket club fromon 6 February 2015.[181][182] He lives in his farmhouse outside Ranchi.[183] Dhoni is an automotive enthusiast and owns a number of bikes and cars in his collection.[184]\n",
            "Career statistics\n",
            "\n",
            "Dhoni has\n"
          ]
        }
      ]
    },
    {
      "cell_type": "code",
      "source": [
        "from langchain_community.llms import HuggingFaceEndpoint\n",
        "from langchain.chains import LLMChain\n",
        "from langchain.prompts import PromptTemplate\n",
        "from google.colab import userdata\n",
        "\n",
        "hf_token = userdata.get('HUGGINGFACE_HUB_API_KEY')\n",
        "\n",
        "# Define the repository ID for the Gemma 2b model\n",
        "repo_id = \"google/gemma-2b\"\n",
        "\n",
        "# Set up a Hugging Face Endpoint for Gemma 2b model\n",
        "llm = HuggingFaceEndpoint(\n",
        "    repo_id=repo_id, max_length=1024, temperature=0.1, huggingfacehub_api_token=hf_token\n",
        ")"
      ],
      "metadata": {
        "colab": {
          "base_uri": "https://localhost:8080/"
        },
        "id": "5e5525Rxi9XT",
        "outputId": "19a2a42a-822a-41e6-fd8f-3340b7f5f0c0"
      },
      "execution_count": 50,
      "outputs": [
        {
          "output_type": "stream",
          "name": "stderr",
          "text": [
            "WARNING:langchain_community.llms.huggingface_endpoint:WARNING! max_length is not default parameter.\n",
            "                    max_length was transferred to model_kwargs.\n",
            "                    Please make sure that max_length is what you intended.\n"
          ]
        },
        {
          "output_type": "stream",
          "name": "stdout",
          "text": [
            "The token has not been saved to the git credentials helper. Pass `add_to_git_credential=True` in this function directly or `--add-to-git-credential` if using via `huggingface-cli` if you want to set the git credential as well.\n",
            "Token is valid (permission: read).\n",
            "Your token has been saved to /root/.cache/huggingface/token\n",
            "Login successful\n"
          ]
        }
      ]
    },
    {
      "cell_type": "code",
      "source": [
        "template = \"\"\"Answer the question in one line using the following information:\n",
        "\n",
        "```{information}```.\n",
        "\n",
        "\n",
        "*** Question ***\n",
        "\n",
        "{question}\n",
        "\n",
        "*** Answer ***\"\"\"\n",
        "\n",
        "prompt = PromptTemplate.from_template(template=template)"
      ],
      "metadata": {
        "id": "Py_c2BVOjMIw"
      },
      "execution_count": 67,
      "outputs": []
    },
    {
      "cell_type": "code",
      "source": [
        "prompt_formatted_str: str = prompt.format(question=question, information=relevant_text)\n",
        "response = llm.invoke(prompt_formatted_str)\n",
        "response"
      ],
      "metadata": {
        "colab": {
          "base_uri": "https://localhost:8080/",
          "height": 35
        },
        "id": "E3uP7Jsqp5K6",
        "outputId": "16c13e61-d173-468c-f435-a94ad5d11369"
      },
      "execution_count": 68,
      "outputs": [
        {
          "output_type": "execute_result",
          "data": {
            "text/plain": [
              "'\\n\\nDhoni married Sakshi Singh Rawat on 4 July 2010 in Dehradun.[179][180]'"
            ],
            "application/vnd.google.colaboratory.intrinsic+json": {
              "type": "string"
            }
          },
          "metadata": {},
          "execution_count": 68
        }
      ]
    },
    {
      "cell_type": "code",
      "source": [],
      "metadata": {
        "id": "ffGywdMEqCeF"
      },
      "execution_count": null,
      "outputs": []
    }
  ]
}